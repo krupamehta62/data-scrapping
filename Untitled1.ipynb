{
  "nbformat": 4,
  "nbformat_minor": 0,
  "metadata": {
    "colab": {
      "name": "Untitled1.ipynb",
      "provenance": [],
      "authorship_tag": "ABX9TyNneZr2oTgAl/MkXjwk2Lg+",
      "include_colab_link": true
    },
    "kernelspec": {
      "name": "python3",
      "display_name": "Python 3"
    },
    "language_info": {
      "name": "python"
    }
  },
  "cells": [
    {
      "cell_type": "markdown",
      "metadata": {
        "id": "view-in-github",
        "colab_type": "text"
      },
      "source": [
        "<a href=\"https://colab.research.google.com/github/krupamehta62/data-scrapping/blob/main/Untitled1.ipynb\" target=\"_parent\"><img src=\"https://colab.research.google.com/assets/colab-badge.svg\" alt=\"Open In Colab\"/></a>"
      ]
    },
    {
      "cell_type": "code",
      "metadata": {
        "id": "JbLXBgRUsm0Z"
      },
      "source": [
        "from selenium import webdriver \n",
        "from bs4 import BeautifulSoup\n",
        "import requests\n",
        "#http requests\n",
        "\n",
        "URL='https://downtowndallas.com/places/element-by-westin/'\n",
        "page=requests.get(URL)\n",
        "\n",
        "soup=BeautifulSoup(page.content,'html.parser')\n",
        "results=soup.find(article,class_:'place')\n",
        "for a in results:\n",
        "\n",
        "name=a.find('h1',attrs{'class':'place-name'})\n",
        "phone=a.find('div',attrs{'class':'place-info-address','a':\"tel://469-399-1049\"})\n",
        "area=a.find('div',attrs{'class':'place-info-address','a':\"https://downtowndallas.com/meet-mydtdcontest-winner-karen-lao-a-dallas-girl-who-codes-instagrams-our-city/\"})\n",
        "address=a.find('div',attrs{'class':'place-info-address','a')\n",
        "image=soup.find('div',class_='place-info-image')\n",
        "\n",
        "name.append(name.text)\n",
        "phone.append(phone.text)\n",
        "area.append(area.text)\n",
        "address.append(address.text)\n",
        "image.get(image.img['src'])\n",
        "\n",
        "df = pd.DataFrame({'Name':name,'Phone':phone,'Area':area,'Address':address}) \n",
        "df.to_csv('dataScrapping.csv', index=False, encoding='utf-8')"
      ],
      "execution_count": null,
      "outputs": []
    }
  ]
}